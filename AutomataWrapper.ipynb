{
 "metadata": {
  "name": "",
  "signature": "sha256:129f34c1a60f9dc90adcf7f889e1a83bda9b96eb9de4696e9dc8ff50030e94a7"
 },
 "nbformat": 3,
 "nbformat_minor": 0,
 "worksheets": [
  {
   "cells": [
    {
     "cell_type": "code",
     "collapsed": false,
     "input": [
      "import numpy as np\n",
      "import pandas as pd\n",
      "\n",
      "import xgboost as xgb\n",
      "from sklearn.metrics import log_loss\n",
      "from sklearn.grid_search import RandomizedSearchCV\n",
      "from sklearn.cross_validation import StratifiedKFold\n",
      "from scipy.stats import randint as sp_randint\n",
      "from scipy.stats import uniform as sp_uniform\n",
      "import numpy as np\n",
      "import pickle\n",
      "from utils import *"
     ],
     "language": "python",
     "metadata": {},
     "outputs": [],
     "prompt_number": 1
    },
    {
     "cell_type": "code",
     "collapsed": false,
     "input": [
      "class AutomataWrapper(object):\n",
      "    \"\"\"\n",
      "    Class wrapper friendly Scikit API for plugin\n",
      "    Parameters:\n",
      "    -----------------------\n",
      "    model: instance of Scikit model\n",
      "    param_grid: dict\n",
      "        Parameters for random model\n",
      "    scoring: string\n",
      "        Metric to evaluate the model\n",
      "    iters: int\n",
      "        Number of randomized running\n",
      "    cv: None\n",
      "        Built-in cv or user-defined cross validation\n",
      "    \"\"\"\n",
      "    def __init__(self, model=None, param_grid=None, scoring=\"accuracy\", iters=50, cv =None):\n",
      "        self.model = model\n",
      "        self.param_grid = param_grid\n",
      "        self.iters = iters\n",
      "        self.cv = cv\n",
      "    def fit(self,X_train,y_train):\n",
      "        if self.cv is None:\n",
      "            cv = StratifiedKFold(y_train, )\n",
      "        search_GB = RandomizedSearchCV(self.model,self.param_grid,scoring=self.scoring,n_jobs=-1,\n",
      "               n_iter=self.iters,cv=cv,verbose=True)\n",
      "        search_GB.fit(X_train,y_train)\n",
      "        self.grid_model = search_GB\n",
      "    def predict(self, X_test):\n",
      "        return self.grid_model.predict(X_test)\n",
      "    def predict_proba(self,X_test):\n",
      "        return self.grid_model.predict_proba(X_test)\n",
      "    def score(self, X_test, y_test):\n",
      "        return self.grid_model.score(X_test,y_test)"
     ],
     "language": "python",
     "metadata": {},
     "outputs": [],
     "prompt_number": 7
    },
    {
     "cell_type": "code",
     "collapsed": false,
     "input": [
      "print AutomataWrapper.__doc__"
     ],
     "language": "python",
     "metadata": {},
     "outputs": [
      {
       "output_type": "stream",
       "stream": "stdout",
       "text": [
        "\n",
        "    Class wrapper friendly Scikit API for plugin\n",
        "    Parameters:\n",
        "    -----------------------\n",
        "    model: instance of Scikit model\n",
        "    param_grid: dict\n",
        "        Parameters for random model\n",
        "    scoring: string\n",
        "        Metric to evaluate the model\n",
        "    iters: int\n",
        "        Number of randomized running\n",
        "    cv: None\n",
        "        Built-in cv or user-defined cross validation\n",
        "    \n"
       ]
      }
     ],
     "prompt_number": 8
    }
   ],
   "metadata": {}
  }
 ]
}