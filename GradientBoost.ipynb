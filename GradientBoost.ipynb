{
 "cells": [
  {
   "cell_type": "code",
   "execution_count": 2,
   "metadata": {
    "collapsed": false
   },
   "outputs": [],
   "source": [
    "import numpy as np\n",
    "import pandas as pd\n",
    "from sklearn.ensemble import GradientBoostingClassifier\n",
    "from sklearn.metrics import log_loss\n",
    "from sklearn.grid_search import RandomizedSearchCV\n",
    "from sklearn.cross_validation import StratifiedKFold\n",
    "from scipy.stats import randint as sp_randint\n",
    "from scipy.stats import uniform as sp_uniform\n",
    "import numpy as np\n",
    "import pickle\n",
    "from utils import *"
   ]
  },
  {
   "cell_type": "code",
   "execution_count": 3,
   "metadata": {
    "collapsed": false
   },
   "outputs": [],
   "source": [
    "n_iter = 200\n",
    "k_fold = 10\n",
    "# cv = kfold\n",
    "# initialize the classifier\n",
    "X_train, X_val, y_train, y_val, cv = load_train_and_kfold(n_folds=k_fold)"
   ]
  },
  {
   "cell_type": "code",
   "execution_count": 13,
   "metadata": {
    "collapsed": false
   },
   "outputs": [],
   "source": [
    "model = GradientBoostingClassifier(random_state=4111)\n",
    "model_name = model.__class__.__name__\n",
    "param_grid = {\n",
    "     'learning_rate': sp_uniform(loc=0e0,scale=1e0),\n",
    "      \"max_depth\": sp_randint(4, 100),\n",
    "      \"max_features\": sp_randint(1, 11),\n",
    "      \"min_samples_split\": sp_randint(1, 11),\n",
    "      \"min_samples_leaf\": sp_randint(1, 11),\n",
    "      'subsample': np.arange(0.6,1.0,step=0.05),\n",
    "#       \"n_estimators\": sp_randint(100,600)\n",
    "}"
   ]
  },
  {
   "cell_type": "code",
   "execution_count": null,
   "metadata": {
    "collapsed": false
   },
   "outputs": [
    {
     "name": "stdout",
     "output_type": "stream",
     "text": [
      "Fitting 10 folds for each of 2 candidates, totalling 20 fits\n"
     ]
    }
   ],
   "source": [
    "search_GB = RandomizedSearchCV(model,param_grid,scoring='log_loss',n_jobs=-1,\n",
    "               n_iter=2,cv=cv,verbose=True)\n",
    "search_GB.fit(X_train,y_train.flatten())"
   ]
  },
  {
   "cell_type": "code",
   "execution_count": null,
   "metadata": {
    "collapsed": false
   },
   "outputs": [],
   "source": [
    "log_model = search_GB.score(X_val,y_val.flatten())\n",
    "print \"Log loss = %s\"%log_model\n",
    "X_test = get_test()\n",
    "y_pred = search_GB.predict_proba(X_test)\n",
    "save_submission(model_name,log_model,y_pred)"
   ]
  },
  {
   "cell_type": "code",
   "execution_count": null,
   "metadata": {
    "collapsed": false
   },
   "outputs": [],
   "source": [
    "log"
   ]
  }
 ],
 "metadata": {
  "kernelspec": {
   "display_name": "Python 2",
   "language": "python",
   "name": "python2"
  },
  "language_info": {
   "codemirror_mode": {
    "name": "ipython",
    "version": 2
   },
   "file_extension": ".py",
   "mimetype": "text/x-python",
   "name": "python",
   "nbconvert_exporter": "python",
   "pygments_lexer": "ipython2",
   "version": "2.7.12"
  }
 },
 "nbformat": 4,
 "nbformat_minor": 0
}
