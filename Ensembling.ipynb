{
 "cells": [
  {
   "cell_type": "code",
   "execution_count": 52,
   "metadata": {
    "collapsed": false
   },
   "outputs": [],
   "source": [
    "import pandas as pd\n",
    "import numpy as np\n",
    "import xgboost\n",
    "from keras.layers import Activation, Dense\n",
    "from keras.optimizers import Adagrad\n",
    "import os\n",
    "from utils import save_submission\n",
    "# from sklearn.metrics import "
   ]
  },
  {
   "cell_type": "code",
   "execution_count": 3,
   "metadata": {
    "collapsed": true
   },
   "outputs": [],
   "source": [
    "ensemble_files = os.listdir(\"results/\")"
   ]
  },
  {
   "cell_type": "code",
   "execution_count": 7,
   "metadata": {
    "collapsed": false
   },
   "outputs": [],
   "source": [
    "submiss_dat = [pd.read_csv(f).drop([\"id\"],axis=1) for f in ensemble_files ]"
   ]
  },
  {
   "cell_type": "code",
   "execution_count": 58,
   "metadata": {
    "collapsed": false
   },
   "outputs": [],
   "source": [
    "def geometric_average(dats):\n",
    "    total_file = len(dats)\n",
    "    total_sub = np.ones(dats[0].shape)\n",
    "    for dat in dats:\n",
    "        total_sub = total_sub*dat.values\n",
    "    return np.power(total_sub,1.0/total_file)\n",
    "def harmonic_average(dats):\n",
    "    total_file = len(dats)\n",
    "    total_sub = np.ones(dats[0].shape)\n",
    "    for dat in dats:\n",
    "        total_sub = total_sub + np.power(dat.values,-1)\n",
    "    return np.power((total_sub/total_file),-1)"
   ]
  },
  {
   "cell_type": "code",
   "execution_count": 59,
   "metadata": {
    "collapsed": false
   },
   "outputs": [],
   "source": [
    "harmonic_average = harmonic_average(submiss_dat)"
   ]
  },
  {
   "cell_type": "code",
   "execution_count": 60,
   "metadata": {
    "collapsed": false
   },
   "outputs": [
    {
     "data": {
      "text/plain": [
       "array([[  2.34300683e-05,   1.80742573e-01,   1.88607934e-01, ...,\n",
       "          1.43265445e-02,   8.35556859e-06,   9.11003176e-07],\n",
       "       [  1.27726142e-03,   2.14092792e-03,   6.54351513e-05, ...,\n",
       "          6.08347648e-04,   3.21649344e-01,   4.12001003e-03],\n",
       "       [  1.77042002e-06,   5.03834938e-08,   2.20903397e-08, ...,\n",
       "          7.32759189e-06,   1.05731419e-04,   3.76809899e-06],\n",
       "       ..., \n",
       "       [  3.74081983e-05,   3.71833282e-01,   2.68522071e-01, ...,\n",
       "          1.45089384e-02,   7.43023811e-05,   5.68038810e-06],\n",
       "       [  4.23949933e-05,   5.28181239e-01,   8.44011840e-02, ...,\n",
       "          7.94598841e-04,   1.33431951e-05,   7.91243571e-06],\n",
       "       [  3.61591794e-05,   3.83863300e-01,   3.12273133e-01, ...,\n",
       "          6.48745067e-02,   7.45565118e-06,   4.76113609e-06]])"
      ]
     },
     "execution_count": 60,
     "metadata": {},
     "output_type": "execute_result"
    }
   ],
   "source": [
    "harmonic_average"
   ]
  },
  {
   "cell_type": "code",
   "execution_count": 61,
   "metadata": {
    "collapsed": false
   },
   "outputs": [],
   "source": [
    "sub = pd.read_csv(\"results/nn_hidden_10_0.56662607029.csv\")\n",
    "# sub[sub.columns[1:]] = geo_average"
   ]
  },
  {
   "cell_type": "code",
   "execution_count": 62,
   "metadata": {
    "collapsed": false
   },
   "outputs": [],
   "source": [
    "sub_drop_id = sub.drop([\"id\"],axis=1).values"
   ]
  },
  {
   "cell_type": "code",
   "execution_count": 63,
   "metadata": {
    "collapsed": false
   },
   "outputs": [
    {
     "name": "stdout",
     "output_type": "stream",
     "text": [
      "Save submission completed\n"
     ]
    }
   ],
   "source": [
    "save_submission(\"Harmonic\",1.23,harmonic_average)"
   ]
  },
  {
   "cell_type": "code",
   "execution_count": null,
   "metadata": {
    "collapsed": true
   },
   "outputs": [],
   "source": []
  }
 ],
 "metadata": {
  "kernelspec": {
   "display_name": "Python 2",
   "language": "python",
   "name": "python2"
  },
  "language_info": {
   "codemirror_mode": {
    "name": "ipython",
    "version": 2
   },
   "file_extension": ".py",
   "mimetype": "text/x-python",
   "name": "python",
   "nbconvert_exporter": "python",
   "pygments_lexer": "ipython2",
   "version": "2.7.12"
  }
 },
 "nbformat": 4,
 "nbformat_minor": 1
}
