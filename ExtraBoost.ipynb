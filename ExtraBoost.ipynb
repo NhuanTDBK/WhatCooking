{
 "metadata": {
  "name": "",
  "signature": "sha256:4d411562551590082977136fd5eba24b8cec4ad7a28f85998e2047639c0e02c7"
 },
 "nbformat": 3,
 "nbformat_minor": 0,
 "worksheets": [
  {
   "cells": [
    {
     "cell_type": "code",
     "collapsed": false,
     "input": [
      "import numpy as np\n",
      "import pandas as pd\n",
      "from sklearn.ensemble import RandomForestClassifier, ExtraTreesClassifier\n",
      "from sklearn.metrics import log_loss\n",
      "from sklearn.grid_search import RandomizedSearchCV\n",
      "from sklearn.cross_validation import StratifiedKFold\n",
      "from scipy.stats import randint as sp_randint\n",
      "from scipy.stats import uniform as sp_uniform\n",
      "import numpy as np\n",
      "import pickle\n",
      "from utils import *"
     ],
     "language": "python",
     "metadata": {},
     "outputs": [],
     "prompt_number": 1
    },
    {
     "cell_type": "code",
     "collapsed": false,
     "input": [
      "n_iter = 200\n",
      "k_fold = 10\n",
      "# cv = kfold\n",
      "# initialize the classifier\n",
      "X_train, X_val, y_train, y_val, cv = load_train_and_kfold(n_folds=k_fold)"
     ],
     "language": "python",
     "metadata": {},
     "outputs": [],
     "prompt_number": 2
    },
    {
     "cell_type": "code",
     "collapsed": false,
     "input": [
      "model = ExtraTreesClassifier(random_state=4111)\n",
      "model_name = model.__class__.__name__\n",
      "param_grid = {\n",
      "      \"max_depth\": sp_randint(4, 100),\n",
      "      \"max_features\": sp_randint(1, 11),\n",
      "      \"min_samples_split\": sp_randint(1, 11),\n",
      "      \"min_samples_leaf\": sp_randint(1, 11),\n",
      "      \"bootstrap\": [True, False],\n",
      "      \"criterion\": [\"gini\", \"entropy\"],\n",
      "#       \"n_estimators\": sp_randint(100,600)\n",
      "}"
     ],
     "language": "python",
     "metadata": {},
     "outputs": [],
     "prompt_number": 25
    },
    {
     "cell_type": "code",
     "collapsed": false,
     "input": [
      "search_GB = RandomizedSearchCV(model,param_grid,scoring='log_loss',n_jobs=-1,\n",
      "               n_iter=2,cv=cv,verbose=True)\n",
      "search_GB.fit(X_train,y_train.flatten())"
     ],
     "language": "python",
     "metadata": {},
     "outputs": [
      {
       "output_type": "stream",
       "stream": "stdout",
       "text": [
        "Fitting 10 folds for each of 2 candidates, totalling 20 fits\n"
       ]
      },
      {
       "output_type": "stream",
       "stream": "stderr",
       "text": [
        "[Parallel(n_jobs=-1)]: Done  20 out of  20 | elapsed:    8.0s finished\n"
       ]
      },
      {
       "metadata": {},
       "output_type": "pyout",
       "prompt_number": 6,
       "text": [
        "RandomizedSearchCV(cv=sklearn.cross_validation.StratifiedKFold(labels=[0 0 ..., 5 5], n_folds=10, shuffle=True, random_state=None),\n",
        "          error_score='raise',\n",
        "          estimator=ExtraTreesClassifier(bootstrap=False, class_weight=None, criterion='gini',\n",
        "           max_depth=None, max_features='auto', max_leaf_nodes=None,\n",
        "           min_samples_leaf=1, min_samples_split=2,\n",
        "           min_weight_fraction_leaf=0.0, n_estimators=10, n_jobs=1,\n",
        "           oob_score=False, random_state=4111, verbose=0, warm_start=False),\n",
        "          fit_params={}, iid=True, n_iter=2, n_jobs=-1,\n",
        "          param_distributions={'bootstrap': [True, False], 'min_samples_leaf': <scipy.stats._distn_infrastructure.rv_frozen object at 0x7f7a6f826090>, 'min_samples_split': <scipy.stats._distn_infrastructure.rv_frozen object at 0x7f7a6f891fd0>, 'criterion': ['gini', 'entropy'], 'max_features': <scipy.stats._distn_infrastructure.rv_frozen object at 0x7f7a6f891e90>, 'max_depth': <scipy.stats._distn_infrastructure.rv_frozen object at 0x7f7a6f891b50>},\n",
        "          pre_dispatch='2*n_jobs', random_state=None, refit=True,\n",
        "          scoring='log_loss', verbose=True)"
       ]
      }
     ],
     "prompt_number": 6
    },
    {
     "cell_type": "code",
     "collapsed": false,
     "input": [
      "log_model = search_GB.score(X_val,y_val.flatten())\n",
      "print \"Log loss = %s\"%log_model\n",
      "X_test = get_test()\n",
      "y_pred = search_GB.predict_proba(X_test)\n",
      "save_submission(model_name,log_model,y_pred)"
     ],
     "language": "python",
     "metadata": {},
     "outputs": [
      {
       "output_type": "stream",
       "stream": "stdout",
       "text": [
        "Log loss = -0.881031615881\n"
       ]
      },
      {
       "output_type": "stream",
       "stream": "stderr",
       "text": [
        "/usr/local/lib/python2.7/dist-packages/sklearn/grid_search.py:418: ChangedBehaviorWarning: The long-standing behavior to use the estimator's score function in RandomizedSearchCV.score has changed. The scoring parameter is now used.\n",
        "  ChangedBehaviorWarning)\n"
       ]
      }
     ],
     "prompt_number": 7
    }
   ],
   "metadata": {}
  }
 ]
}