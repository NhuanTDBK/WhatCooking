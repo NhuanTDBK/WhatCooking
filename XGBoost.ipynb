{
 "metadata": {
  "name": "",
  "signature": "sha256:efcc104ec146fe602cb5a966529abef04190207ff084989d572acc622ed7967f"
 },
 "nbformat": 3,
 "nbformat_minor": 0,
 "worksheets": [
  {
   "cells": [
    {
     "cell_type": "code",
     "collapsed": false,
     "input": [
      "import numpy as np\n",
      "import pandas as pd\n",
      "from sklearn.ensemble import RandomForestClassifier, ExtraTreesClassifier\n",
      "import xgboost as xgb\n",
      "from sklearn.metrics import log_loss\n",
      "from sklearn.grid_search import RandomizedSearchCV\n",
      "from sklearn.cross_validation import StratifiedKFold\n",
      "from scipy.stats import randint as sp_randint\n",
      "from scipy.stats import uniform as sp_uniform\n",
      "import numpy as np\n",
      "import pickle\n",
      "from utils import *"
     ],
     "language": "python",
     "metadata": {},
     "outputs": [],
     "prompt_number": 1
    },
    {
     "cell_type": "code",
     "collapsed": false,
     "input": [
      "n_iter = 200\n",
      "k_fold = 10\n",
      "# cv = kfold\n",
      "# initialize the classifier\n",
      "X_train, X_val, y_train, y_val, cv = load_train_and_kfold(n_folds=k_fold)"
     ],
     "language": "python",
     "metadata": {},
     "outputs": [],
     "prompt_number": 2
    },
    {
     "cell_type": "code",
     "collapsed": false,
     "input": [
      "GB = xgb.XGBClassifier()\n",
      "param_grid = {\n",
      "              'max_depth': sp_randint(4, 100),\n",
      "              'learning_rate': sp_uniform(loc=0e0,scale=1e0),\n",
      "              'objective':['multi:softprob'],\n",
      "              'nthread': [8],\n",
      "              'missing': [np.nan],\n",
      "              'reg_alpha': [0.01,0.017782794,0.031622777,0.056234133,\\\n",
      "                            0.1,0.17782794,0.31622777,0.56234133,1.,1.77827941,\\\n",
      "                            3.16227766,5.62341325,10.,\\\n",
      "                            17.7827941,31.6227766,56.2341325,100.],\n",
      "              'colsample_bytree': sp_uniform(loc=0.2e0,scale=0.8e0),\n",
      "              'subsample': np.arange(0.6,1.0,step=0.05),\n",
      "              'n_estimators': sp_randint(100,600),\n",
      "}"
     ],
     "language": "python",
     "metadata": {},
     "outputs": [],
     "prompt_number": 4
    },
    {
     "cell_type": "code",
     "collapsed": false,
     "input": [
      "search_GB = RandomizedSearchCV(GB,param_grid,scoring='log_loss',n_jobs=-1,\n",
      "               n_iter=2,cv=cv,verbose=True)\n",
      "search_GB.fit(X_train,y_train)"
     ],
     "language": "python",
     "metadata": {},
     "outputs": [
      {
       "output_type": "stream",
       "stream": "stdout",
       "text": [
        "Fitting 10 folds for each of 2 candidates, totalling 20 fits\n"
       ]
      }
     ]
    },
    {
     "cell_type": "code",
     "collapsed": false,
     "input": [
      "log_model = search_GB.score(X_val,y_val)\n",
      "print \"Log loss = %s\"%log_model\n",
      "X_test = get_test()\n",
      "# save_submission('XGBoost',log_model,search_GB.predict_proba(X_test))"
     ],
     "language": "python",
     "metadata": {},
     "outputs": [
      {
       "ename": "NameError",
       "evalue": "name 'search_GB' is not defined",
       "output_type": "pyerr",
       "traceback": [
        "\u001b[0;31m---------------------------------------------------------------------------\u001b[0m\n\u001b[0;31mNameError\u001b[0m                                 Traceback (most recent call last)",
        "\u001b[0;32m<ipython-input-1-521fc8d396a6>\u001b[0m in \u001b[0;36m<module>\u001b[0;34m()\u001b[0m\n\u001b[0;32m----> 1\u001b[0;31m \u001b[0mlog_model\u001b[0m \u001b[0;34m=\u001b[0m \u001b[0msearch_GB\u001b[0m\u001b[0;34m.\u001b[0m\u001b[0mscore\u001b[0m\u001b[0;34m(\u001b[0m\u001b[0mX_val\u001b[0m\u001b[0;34m,\u001b[0m\u001b[0my_val\u001b[0m\u001b[0;34m)\u001b[0m\u001b[0;34m\u001b[0m\u001b[0m\n\u001b[0m\u001b[1;32m      2\u001b[0m \u001b[0;32mprint\u001b[0m \u001b[0;34m\"Log loss = %s\"\u001b[0m\u001b[0;34m%\u001b[0m\u001b[0mlog_model\u001b[0m\u001b[0;34m\u001b[0m\u001b[0m\n\u001b[1;32m      3\u001b[0m \u001b[0mX_test\u001b[0m \u001b[0;34m=\u001b[0m \u001b[0mget_test\u001b[0m\u001b[0;34m(\u001b[0m\u001b[0;34m)\u001b[0m\u001b[0;34m\u001b[0m\u001b[0m\n\u001b[1;32m      4\u001b[0m \u001b[0;31m# save_submission('XGBoost',log_model,search_GB.predict_proba(X_test))\u001b[0m\u001b[0;34m\u001b[0m\u001b[0;34m\u001b[0m\u001b[0m\n",
        "\u001b[0;31mNameError\u001b[0m: name 'search_GB' is not defined"
       ]
      }
     ],
     "prompt_number": 1
    },
    {
     "cell_type": "code",
     "collapsed": false,
     "input": [],
     "language": "python",
     "metadata": {},
     "outputs": []
    }
   ],
   "metadata": {}
  }
 ]
}